{
 "cells": [
  {
   "cell_type": "markdown",
   "id": "e0d6d6ed",
   "metadata": {},
   "source": [
    "# Задача №3.1 "
   ]
  },
  {
   "cell_type": "code",
   "execution_count": 18,
   "id": "2b031e2d",
   "metadata": {},
   "outputs": [
    {
     "name": "stdout",
     "output_type": "stream",
     "text": [
      "Add m = 7\n",
      "1 2 2 3 3 3 4 "
     ]
    }
   ],
   "source": [
    "m = int(input('Add m = ')) \n",
    "res = [] \n",
    "for i in range(1, m+1): \n",
    "    for j in range(1, i+1): \n",
    "        res.append(i) \n",
    "for i in range(m): \n",
    "    print(res[i], end = \" \")"
   ]
  },
  {
   "cell_type": "markdown",
   "id": "75db4d35",
   "metadata": {},
   "source": [
    "# Задача №3.2 "
   ]
  },
  {
   "cell_type": "code",
   "execution_count": 19,
   "id": "cc5cc9e1",
   "metadata": {},
   "outputs": [
    {
     "name": "stdout",
     "output_type": "stream",
     "text": [
      "Add m = 1\n",
      "Add m = 2\n",
      "Add m = -3\n",
      "Sum squarts =  14\n"
     ]
    }
   ],
   "source": [
    "sum = 0 \n",
    "sumkv = 0 \n",
    "count = 0 \n",
    "while (sum != 0 or count == 0): \n",
    "    m = int(input('Add m = ')) \n",
    "    sum +=m \n",
    "    sumkv += m**2 \n",
    "    count += 1 \n",
    "print('Sum squarts = ', sumkv)"
   ]
  },
  {
   "cell_type": "markdown",
   "id": "2d78a06a",
   "metadata": {},
   "source": [
    "# Задача №3.3 "
   ]
  },
  {
   "cell_type": "code",
   "execution_count": 20,
   "id": "4fa0fe2f",
   "metadata": {},
   "outputs": [
    {
     "name": "stdout",
     "output_type": "stream",
     "text": [
      "Add a = 2\n",
      "Add b = 7\n",
      "Add c = 5\n",
      "Add d = 6\n",
      "\t5\t6\n",
      "2\t10\t12\n",
      "3\t15\t18\n",
      "4\t20\t24\n",
      "5\t25\t30\n",
      "6\t30\t36\n",
      "7\t35\t42\n"
     ]
    }
   ],
   "source": [
    "a = int(input('Add a = ')) \n",
    "b = int(input('Add b = ')) \n",
    "c = int(input('Add c = ')) \n",
    "d = int(input('Add d = ')) \n",
    "\n",
    "if (a >b or c>d): \n",
    "    print('Error') \n",
    "s = '' \n",
    "for i in range (c,d+1): \n",
    "    s +='\\t%s' %i \n",
    "for j in range (a,b+1): \n",
    "    s +='\\n%s' %j \n",
    "    for i in range (c,d+1): \n",
    "        s +='\\t%s' %(i*j) \n",
    "print(s)\n"
   ]
  },
  {
   "cell_type": "code",
   "execution_count": null,
   "id": "acb50a4b",
   "metadata": {},
   "outputs": [],
   "source": []
  }
 ],
 "metadata": {
  "kernelspec": {
   "display_name": "Python 3.11.1 64-bit",
   "language": "python",
   "name": "python3"
  },
  "language_info": {
   "codemirror_mode": {
    "name": "ipython",
    "version": 3
   },
   "file_extension": ".py",
   "mimetype": "text/x-python",
   "name": "python",
   "nbconvert_exporter": "python",
   "pygments_lexer": "ipython3",
   "version": "3.11.1"
  },
  "vscode": {
   "interpreter": {
    "hash": "aee8b7b246df8f9039afb4144a1f6fd8d2ca17a180786b69acc140d282b71a49"
   }
  }
 },
 "nbformat": 4,
 "nbformat_minor": 5
}
