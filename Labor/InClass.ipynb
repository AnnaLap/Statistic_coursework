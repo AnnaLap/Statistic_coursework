{
 "cells": [
  {
   "cell_type": "markdown",
   "id": "623b4b88",
   "metadata": {},
   "source": [
    "# Задача 1.3"
   ]
  },
  {
   "cell_type": "code",
   "execution_count": 1,
   "id": "eaa63fe3",
   "metadata": {},
   "outputs": [
    {
     "name": "stdout",
     "output_type": "stream",
     "text": [
      "Add m = 5\n",
      "Add n = 20\n",
      "9 13 15 19 "
     ]
    }
   ],
   "source": [
    "m = int(input('Add m = '))\n",
    "n = int(input('Add n = '))\n",
    "if m < n:\n",
    "    for i in range(m, n + 1):\n",
    "        if (i%13 == 0) or (i%10 == 9) or (i%3 == 0 and i%5 == 0):\n",
    "            print(i, end= ' ')\n",
    "else:\n",
    "    print('Add another numbers')"
   ]
  },
  {
   "cell_type": "markdown",
   "id": "3561e86e",
   "metadata": {},
   "source": [
    "# Задача 1.4"
   ]
  },
  {
   "cell_type": "code",
   "execution_count": 2,
   "id": "ee318a6d",
   "metadata": {},
   "outputs": [
    {
     "name": "stdout",
     "output_type": "stream",
     "text": [
      "Add n = 4\n",
      "[0, 1, 2, 3]\n"
     ]
    }
   ],
   "source": [
    "n = int(input('Add n = '))\n",
    "my_list = []\n",
    "for i in range(n):\n",
    "    my_list.append(i)\n",
    "print(my_list)"
   ]
  },
  {
   "cell_type": "markdown",
   "id": "1c1c5514",
   "metadata": {},
   "source": [
    "# Задача 1.5"
   ]
  },
  {
   "cell_type": "code",
   "execution_count": null,
   "id": "ada505bb",
   "metadata": {
    "scrolled": true
   },
   "outputs": [],
   "source": [
    "hand_list = [2, 6, 3, 14, 10, 4, 11, 16, 12, 5, 4, 16, 1, 0, 8, 16, 10, 10, 8, 5, 1, 11, 10, 10, 12, 0, 0, 6, 144, 8, 2, 12, 14, 5, 6, 12, 1, 2, 10, 14,9, 1 ,15, 1, 2, 14, 16, 6, 7, 5]\n",
    "print(f'Length of list =  {len(hand_list)}')\n",
    "print(f'Last element = {hand_list[-1]}')\n",
    "print('Reverse list = ', end='')\n",
    "for i in range(len(hand_list)+1):\n",
    "    if i == len(hand_list):\n",
    "        print(hand_list[-i])\n",
    "    else:\n",
    "        print(hand_list[-i], end=', ')\n",
    "        \n",
    "for item in hand_list:\n",
    "    if 5 and 17 in hand_list:\n",
    "         print('Yes')\n",
    "    else:\n",
    "         print('No')\n",
    "    \n",
    "print(f'Without first and last = {hand_list[1:-1]}')\n"
   ]
  },
  {
   "cell_type": "markdown",
   "id": "55d6f29b",
   "metadata": {},
   "source": [
    "# Задача 1.6"
   ]
  },
  {
   "cell_type": "code",
   "execution_count": 2,
   "id": "3375bcd3",
   "metadata": {},
   "outputs": [
    {
     "name": "stdout",
     "output_type": "stream",
     "text": [
      "3 4 5 6\n",
      "Summa = 18\n"
     ]
    }
   ],
   "source": [
    "num_list = list(map(int, input().split()))\n",
    "sum = 0\n",
    "for item in num_list:\n",
    "    sum += item\n",
    "print(f'Summa = {sum}')\n"
   ]
  },
  {
   "cell_type": "code",
   "execution_count": null,
   "id": "82030d8d",
   "metadata": {},
   "outputs": [],
   "source": []
  }
 ],
 "metadata": {
  "kernelspec": {
   "display_name": "Python 3 (ipykernel)",
   "language": "python",
   "name": "python3"
  },
  "language_info": {
   "codemirror_mode": {
    "name": "ipython",
    "version": 3
   },
   "file_extension": ".py",
   "mimetype": "text/x-python",
   "name": "python",
   "nbconvert_exporter": "python",
   "pygments_lexer": "ipython3",
   "version": "3.9.13"
  }
 },
 "nbformat": 4,
 "nbformat_minor": 5
}
