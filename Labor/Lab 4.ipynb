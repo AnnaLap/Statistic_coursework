{
 "cells": [
  {
   "cell_type": "markdown",
   "metadata": {},
   "source": [
    "# Лабораторная работа №4\n",
    "# \"Применение корреляционно-регрессионого анализа\"\n",
    "## Лапшиной Анны АТМ-22-01"
   ]
  },
  {
   "cell_type": "markdown",
   "metadata": {},
   "source": [
    "### ЧАСТЬ 1. Требуется провести анализ взаимосвязи объема отказавших технических средств на технологическом объекте (ТО) и последствий, которые привели к экономическим потерям, выраженных в денежных единицах.\n",
    "- Факторный признак - доля отказавшего оборудования х\n",
    "-  Результативный признак - финансовые потери у\n",
    "### Дано: <br>\n",
    "`х = [77.8, 69, 76.5, 80.7, 72, 77.1, 64, 72, 75.9, 73.2, 69.6, 79.2, 70.8, 72.3, 71.1, 69.9, 71.1, 69.9, 70.5, 75]`<br>\n",
    "`у = [18.5, 18.2, 20.4, 21.8, 16.8, 20.8, 14.2, 17, 18.4, 19.5, 17.5, 21.8, 16.5, 16.8, 16.5, 17, 16.5, 17, 17.5, 20.9]`<br>"
   ]
  },
  {
   "cell_type": "markdown",
   "metadata": {},
   "source": [
    "### Проверка на однородность"
   ]
  },
  {
   "cell_type": "code",
   "execution_count": 40,
   "metadata": {},
   "outputs": [
    {
     "name": "stdout",
     "output_type": "stream",
     "text": [
      "Оценка мат.ожидания 72.88\n",
      "Оценка СКО 3.9406344666817303\n",
      "Коэффициент вариации 5.407017654612693 %\n",
      "Т.к. коэффициент вариации < 33 %, совокупность можно считать однородной\n",
      "{18.5: 77.8, 18.2: 69.0, 20.4: 76.5, 21.8: 79.2, 16.8: 72.3, 20.8: 77.1, 14.2: 64.0, 17.0: 69.9, 18.4: 75.9, 19.5: 73.2, 17.5: 70.5, 16.5: 71.1, 20.9: 75.0}\n"
     ]
    }
   ],
   "source": [
    "import statistics\n",
    "import numpy as np\n",
    "from math import log10\n",
    "from matplotlib import pyplot as plt\n",
    "import pandas as pd\n",
    "\n",
    "x = np.array([77.8, 69, 76.5, 80.7, 72, 77.1, 64, 72, 75.9, 73.2, 69.6, 79.2, 70.8, 72.3, 71.1, 69.9, 71.1, 69.9, 70.5, 75])\n",
    "y = np.array([18.5, 18.2, 20.4, 21.8, 16.8, 20.8, 14.2, 17, 18.4, 19.5, 17.5, 21.8, 16.5, 16.8, 16.5, 17, 16.5, 17, 17.5, 20.9])\n",
    "data = {}\n",
    "for i in range(len(x)):\n",
    "    data[y[i]] = x[i]\n",
    "    \n",
    "#Оценка мат. ожидания\n",
    "mo = statistics.mean(x)\n",
    "print('Оценка мат.ожидания', mo)\n",
    "\n",
    "#Оценка СКО\n",
    "sigma = np.std(x)\n",
    "print('Оценка СКО', sigma) \n",
    "\n",
    "#Коэффициент вариации\n",
    "V = sigma/mo*100\n",
    "print('Коэффициент вариации',  V, '%')\n",
    "if V < 33:\n",
    "    print('Т.к. коэффициент вариации < 33 %, совокупность можно считать однородной')\n",
    "else:\n",
    "    print ('Т.к. коэффициент вариации >= 33 %, совокупность нельзя считать однородной')\n",
    "        \n",
    "print(data)"
   ]
  },
  {
   "cell_type": "markdown",
   "metadata": {},
   "source": [
    "### Проверка на промахи методом трех сигм"
   ]
  },
  {
   "cell_type": "code",
   "execution_count": 41,
   "metadata": {},
   "outputs": [
    {
     "name": "stdout",
     "output_type": "stream",
     "text": [
      "В 1 - сигмовый интервал входит 75.0 % элементов выборки\n",
      "В 2 - сигмовый интервал входит 95.0 % элементов выборки\n",
      "В 3 - сигмовый интервал входит 100.0 % элементов выборки\n",
      "{'68.9394-76.8206': 15, '64.9987-80.7613': 19, '61.0581-84.7019': 20}\n"
     ]
    }
   ],
   "source": [
    "my_dict = {}\n",
    "cnt = 0\n",
    "n = 1\n",
    "while n <= 3:\n",
    "    for el in x:\n",
    "        if (el <= (mo + n*sigma)) & (el >= (mo - n*sigma)):\n",
    "            cnt += 1\n",
    "    print ('В', n, '- сигмовый интервал входит', cnt/len(x)*100, '% элементов выборки')        \n",
    "    my_dict[f'{(mo - n*sigma):.4f}-{(mo + n*sigma):.4f}'] = cnt \n",
    "    cnt = 0\n",
    "    n += 1\n",
    "print(my_dict)    "
   ]
  },
  {
   "cell_type": "markdown",
   "metadata": {},
   "source": [
    "### Все значения факторного признака попадают в интервал 61.0581-84.7019, поэтому в первичной информации промахи отсутствуют"
   ]
  },
  {
   "cell_type": "markdown",
   "metadata": {},
   "source": [
    "### Коэффициент корреляции"
   ]
  },
  {
   "cell_type": "code",
   "execution_count": 42,
   "metadata": {},
   "outputs": [],
   "source": [
    "def get_rxy(x,y,n):\n",
    "    x = np.array(x)\n",
    "    y = np.array(y)\n",
    "    Rxy = (sum(x*y) - sum(x)*sum(y)/n)/np.sqrt((sum(x*x) - (sum(x)**2)/n)*(sum(y*y) - (sum(y)**2)/n))\n",
    "    print(f'Эмпирический коэффициент корреляции равен: {Rxy:.3f}')\n",
    "    return Rxy"
   ]
  },
  {
   "cell_type": "code",
   "execution_count": 43,
   "metadata": {},
   "outputs": [
    {
     "name": "stdout",
     "output_type": "stream",
     "text": [
      "Эмпирический коэффициент корреляции равен: 0.869\n",
      "t = 7.44392319092826 > 1.734\n"
     ]
    }
   ],
   "source": [
    "n = len(x)\n",
    "rxy = get_rxy(x,y,n)\n",
    "S_r = np.sqrt(1 - rxy**2)/np.sqrt(n - 2)\n",
    "t = abs(rxy)/S_r\n",
    "print('t =', t, '> 1.734')"
   ]
  },
  {
   "cell_type": "markdown",
   "metadata": {},
   "source": [
    "### Определение связи между x и y"
   ]
  },
  {
   "cell_type": "code",
   "execution_count": 44,
   "metadata": {},
   "outputs": [
    {
     "name": "stdout",
     "output_type": "stream",
     "text": [
      "m = 5\n",
      "i = 3.34\n"
     ]
    },
    {
     "data": {
      "text/html": [
       "<div>\n",
       "<style scoped>\n",
       "    .dataframe tbody tr th:only-of-type {\n",
       "        vertical-align: middle;\n",
       "    }\n",
       "\n",
       "    .dataframe tbody tr th {\n",
       "        vertical-align: top;\n",
       "    }\n",
       "\n",
       "    .dataframe thead th {\n",
       "        text-align: right;\n",
       "    }\n",
       "</style>\n",
       "<table border=\"1\" class=\"dataframe\">\n",
       "  <thead>\n",
       "    <tr style=\"text-align: right;\">\n",
       "      <th></th>\n",
       "      <th>Интервал</th>\n",
       "      <th>Кол-во элементов</th>\n",
       "      <th>Cередина интервала</th>\n",
       "      <th>у в интервале</th>\n",
       "      <th>Cумма у в интервале</th>\n",
       "      <th>Cреднее у в интервале</th>\n",
       "    </tr>\n",
       "  </thead>\n",
       "  <tbody>\n",
       "    <tr>\n",
       "      <th>0</th>\n",
       "      <td>64.0000-67.3400</td>\n",
       "      <td>1</td>\n",
       "      <td>65.67</td>\n",
       "      <td>[14.2]</td>\n",
       "      <td>14.2</td>\n",
       "      <td>14.200000</td>\n",
       "    </tr>\n",
       "    <tr>\n",
       "      <th>1</th>\n",
       "      <td>67.3400-70.6800</td>\n",
       "      <td>5</td>\n",
       "      <td>69.01</td>\n",
       "      <td>[18.2, 17.5, 17.0, 17.0, 17.5]</td>\n",
       "      <td>87.2</td>\n",
       "      <td>17.440000</td>\n",
       "    </tr>\n",
       "    <tr>\n",
       "      <th>2</th>\n",
       "      <td>70.6800-74.0200</td>\n",
       "      <td>7</td>\n",
       "      <td>72.35</td>\n",
       "      <td>[16.8, 17.0, 19.5, 16.5, 16.8, 16.5, 16.5]</td>\n",
       "      <td>119.6</td>\n",
       "      <td>17.085714</td>\n",
       "    </tr>\n",
       "    <tr>\n",
       "      <th>3</th>\n",
       "      <td>74.0200-77.3600</td>\n",
       "      <td>4</td>\n",
       "      <td>75.69</td>\n",
       "      <td>[20.4, 20.8, 18.4, 20.9]</td>\n",
       "      <td>80.5</td>\n",
       "      <td>20.125000</td>\n",
       "    </tr>\n",
       "    <tr>\n",
       "      <th>4</th>\n",
       "      <td>77.3600-80.7000</td>\n",
       "      <td>3</td>\n",
       "      <td>79.03</td>\n",
       "      <td>[18.5, 21.8, 21.8]</td>\n",
       "      <td>62.1</td>\n",
       "      <td>20.700000</td>\n",
       "    </tr>\n",
       "  </tbody>\n",
       "</table>\n",
       "</div>"
      ],
      "text/plain": [
       "          Интервал  Кол-во элементов  Cередина интервала  \\\n",
       "0  64.0000-67.3400                 1               65.67   \n",
       "1  67.3400-70.6800                 5               69.01   \n",
       "2  70.6800-74.0200                 7               72.35   \n",
       "3  74.0200-77.3600                 4               75.69   \n",
       "4  77.3600-80.7000                 3               79.03   \n",
       "\n",
       "                                у в интервале  Cумма у в интервале  \\\n",
       "0                                      [14.2]                 14.2   \n",
       "1              [18.2, 17.5, 17.0, 17.0, 17.5]                 87.2   \n",
       "2  [16.8, 17.0, 19.5, 16.5, 16.8, 16.5, 16.5]                119.6   \n",
       "3                    [20.4, 20.8, 18.4, 20.9]                 80.5   \n",
       "4                          [18.5, 21.8, 21.8]                 62.1   \n",
       "\n",
       "   Cреднее у в интервале  \n",
       "0              14.200000  \n",
       "1              17.440000  \n",
       "2              17.085714  \n",
       "3              20.125000  \n",
       "4              20.700000  "
      ]
     },
     "execution_count": 44,
     "metadata": {},
     "output_type": "execute_result"
    }
   ],
   "source": [
    "#Число групп\n",
    "m = 1 + 3.32*log10(len(x))\n",
    "print('m =', int(m))\n",
    "\n",
    "#Величина интервала\n",
    "R = max(x) - min(x)\n",
    "i = R/int(m)\n",
    "print('i =', round(i, 3))\n",
    "my_dict1 = {}\n",
    "x0 = min(x)\n",
    "\n",
    "#Количество элементов в интервалах\n",
    "count = 0\n",
    "y_in_intervals = list()\n",
    "interval_center = list()\n",
    "y_average = list()\n",
    "y_interval_sum = list()\n",
    "for j in range(int(m)):\n",
    "    x1 = x0 + i\n",
    "    y_in_interval = list()\n",
    "    for k in range(len(x)):\n",
    "        if (x0 <= x[k]) & (x[k] < x1):\n",
    "            count += 1\n",
    "            y_in_interval.append(y[k])\n",
    "    y_average.append(np.mean(y_in_interval))\n",
    "    interval_center.append((x0+x1)/2)\n",
    "    y_in_intervals.append(y_in_interval) \n",
    "    y_interval_sum.append(sum(y_in_interval))\n",
    "    my_dict1[f'{x0:.4f}-{x1:.4f}'] = count\n",
    "     \n",
    "    count = 0\n",
    "    x0 = x1\n",
    "\n",
    "d1 = list()\n",
    "d2 = list()\n",
    "d3 = list()\n",
    "d4 = list()\n",
    "d5 = list()\n",
    "d6 = list()\n",
    "i = 0\n",
    "for interval, count in my_dict1.items():\n",
    "    d1.append(interval)\n",
    "    d2.append(count)\n",
    "    d3.append(interval_center[i])\n",
    "    d4.append(y_in_intervals[i])\n",
    "    d5.append(y_interval_sum[i])\n",
    "    d6.append(y_average[i])\n",
    "    i += 1\n",
    "\n",
    "    # print(f'Интервал {interval}: {count} элемент(-ов, -a) входит, середина интервала {interval_center[i]},\\n у в интервале {y_in_intervals[i]}, сумма у в интервале {y_interval_sum[i]},  среднее у в интервале {y_average[i]}')\n",
    "d = {'Интервал' : d1, \n",
    "    'Кол-во элементов' : d2,\n",
    "    'Cередина интервала' : d3, \n",
    "    'у в интервале' : d4, \n",
    "    'Cумма у в интервале' : d5, \n",
    "    'Cреднее у в интервале' : d6}\n",
    "df = pd.DataFrame(data=d)\n",
    "df"
   ]
  },
  {
   "cell_type": "markdown",
   "metadata": {},
   "source": [
    "### Определение модели линейной связи"
   ]
  },
  {
   "cell_type": "code",
   "execution_count": 45,
   "metadata": {},
   "outputs": [
    {
     "name": "stdout",
     "output_type": "stream",
     "text": [
      "[1, 5, 7, 4, 3]\n",
      "Межгрупповая дисперсия: 3.057196428571428\n",
      "Дисперсия по результурующему признаку: 4.026\n",
      "Эта равна: 0.871\n",
      "0.004630246429905283 < 0.1 => можно применить линейную функцию\n"
     ]
    }
   ],
   "source": [
    "y_intervals_freq = [v for k,v in my_dict1.items()]\n",
    "print(y_intervals_freq)\n",
    "inter_disp = 0\n",
    "y_mean = np.mean(y)\n",
    "for i, average in enumerate(y_average):\n",
    "    inter_disp += y_intervals_freq[i]*((average - y_mean)**2)\n",
    "inter_disp /= sum(y_intervals_freq)\n",
    "print('Межгрупповая дисперсия:', inter_disp)\n",
    "Sy = np.var(y)\n",
    "print(f'Дисперсия по результурующему признаку: {Sy:.3f}')\n",
    "\n",
    "eta = np.sqrt(inter_disp/Sy)\n",
    "print(f'Эта равна: {eta:.3f}')\n",
    "print(abs(eta**2-rxy**2), '<', 0.1, '=> можно применить линейную функцию')"
   ]
  },
  {
   "cell_type": "markdown",
   "metadata": {},
   "source": [
    "### Метод МНК"
   ]
  },
  {
   "cell_type": "code",
   "execution_count": 46,
   "metadata": {},
   "outputs": [],
   "source": [
    "A = np.ones((len(x),2))\n",
    "A[:,1] = x\n",
    "T = np.dot(np.dot(np.linalg.inv(np.dot((A.T),A)),A.T),y)"
   ]
  },
  {
   "cell_type": "code",
   "execution_count": 47,
   "metadata": {},
   "outputs": [
    {
     "name": "stdout",
     "output_type": "stream",
     "text": [
      "Уравнение имеет вид: y = 0.442*x + -14.059\n"
     ]
    },
    {
     "data": {
      "text/plain": [
       "[<matplotlib.lines.Line2D at 0x7fb108b81a00>]"
      ]
     },
     "execution_count": 47,
     "metadata": {},
     "output_type": "execute_result"
    },
    {
     "data": {
      "image/png": "[encoded data removed]",
      "text/plain": [
       "<Figure size 1000x700 with 1 Axes>"
      ]
     },
     "metadata": {},
     "output_type": "display_data"
    }
   ],
   "source": [
    "k = T[1]\n",
    "c = T[0]\n",
    "\n",
    "print(f'Уравнение имеет вид: y = {k:.3f}*x + {c:.3f}')\n",
    "\n",
    "fig = plt.figure(figsize=(10,7))\n",
    "ax = fig.add_subplot(111)\n",
    "ax.grid(color='grey', linestyle='-', linewidth=1)\n",
    "ax.plot(x,y, 'ro', ms=10)\n",
    "ax.plot(x,[k*xi + c for xi in x])"
   ]
  },
  {
   "cell_type": "code",
   "execution_count": null,
   "metadata": {},
   "outputs": [],
   "source": [
    "# Среднеквадратическая ошибка уравнения\n",
    "Se = np.sqrt(sum(abs(y-np.array([(k*x_i + c) for x_i in x])))/(len(x)-2))\n",
    "print(f'Среднеквадратическая ошибка уравнения {Se:.3f}')\n",
    "Mera = Se/y_mean*100\n",
    "print(f'Mera = {Mera:.2f}%')"
   ]
  },
  {
   "cell_type": "markdown",
   "metadata": {},
   "source": [
    "### Метод градиентного спуска"
   ]
  },
  {
   "cell_type": "code",
   "execution_count": 38,
   "metadata": {},
   "outputs": [],
   "source": [
    "def gradient(x, y, learning_rate):\n",
    "    # Нормировка данных\n",
    "    x_norm = (x-min(x))/(max(x)-min(x))\n",
    "    y_norm = (y-min(y))/(max(y)-min(y))\n",
    "\n",
    "    T = np.array([1,1])\n",
    "    X = np.ones((len(x_norm),2))\n",
    "    X[:,1] = x_norm\n",
    "    \n",
    "    y_new = np.dot(X,T.T)\n",
    "    #Изменение коэффициентов \n",
    "    dT = learning_rate*np.sum((y_norm-y_new)*X.T,axis=1)\n",
    "    \n",
    "    while abs(sum(dT)) > 0.0000001:\n",
    "        T = T + dT\n",
    "        y_new = np.dot(X,T.T)\n",
    "        dT = learning_rate*np.sum((y_norm-y_new)*X.T,axis=1)\n",
    "\n",
    "    # Денормировка\n",
    "    k = T[1]*(max(y)-min(y))/(max(x)-min(x))\n",
    "    c = T[0]*(max(y)-min(y)) + min(y) - T[1]*min(x)*(max(y)-min(y))/(max(x)-min(x))\n",
    "\n",
    "    return k, c"
   ]
  },
  {
   "cell_type": "code",
   "execution_count": 39,
   "metadata": {},
   "outputs": [
    {
     "name": "stdout",
     "output_type": "stream",
     "text": [
      "Полученное уравнение имеет вид: y = -0.000*x + 0.000\n"
     ]
    },
    {
     "data": {
      "text/plain": [
       "[<matplotlib.lines.Line2D at 0x7fb13a3eee50>]"
      ]
     },
     "execution_count": 39,
     "metadata": {},
     "output_type": "execute_result"
    },
    {
     "data": {
      "image/png": "[encoded data removed]",
      "text/plain": [
       "<Figure size 1000x700 with 1 Axes>"
      ]
     },
     "metadata": {},
     "output_type": "display_data"
    }
   ],
   "source": [
    "LR = 0.07\n",
    "\n",
    "k,c = gradient(x, y, LR)\n",
    "\n",
    "\n",
    "print(f'Полученное уравнение имеет вид: y = {k:.3f}*x + {c:.3f}')\n",
    "\n",
    "fig = plt.figure(figsize=(10,7))\n",
    "ax = fig.add_subplot(111)\n",
    "ax.grid(color='grey', linestyle='-', linewidth=1)\n",
    "ax.plot(x,y, 'ro', ms=10)\n",
    "ax.plot(x,[k*xi + c for xi in x])"
   ]
  },
  {
   "cell_type": "code",
   "execution_count": 11,
   "metadata": {},
   "outputs": [
    {
     "name": "stdout",
     "output_type": "stream",
     "text": [
      "Среднеквадратическая ошибка уравнения 0.970\n",
      "Mera = 5.34%\n"
     ]
    }
   ],
   "source": [
    "# Среднеквадратическая ошибка уравнения\n",
    "Se = np.sqrt(sum(abs(y-np.array([(k*x_i + c) for x_i in x])))/(len(x)-2))\n",
    "print(f'Среднеквадратическая ошибка уравнения {Se:.3f}')\n",
    "Mera = Se/y_mean*100\n",
    "print(f'Mera = {Mera:.2f}%')"
   ]
  },
  {
   "cell_type": "markdown",
   "metadata": {},
   "source": [
    "### ЧАСТЬ 2. Требуется провести анализ взаимосвязи между результативным и факторным признаками.\n",
    "- Факторный признак - уровень самодиагностики х\n",
    "-  Результативный признак - интенсивность ложных срабатываний у\n",
    "### Дано: <br>\n",
    "`х = [0.7, 0.5, 0.7, 0.7, 0.7,0.75, 0.7, 0.5, 0.5, 0.85,0.2, 0.3, 0.2, 0.3, 0.7,0.5, 0.7, 0.7, 0.7, 0.8]`<br>\n",
    "`у = [4, 14, 4, 12, 5, 5, 3.30, 14, 6, 2.85, 6.8, 16, 7, 81.8, 4, 14, 4, 12, 5, 5]*(10**-6)`<br>"
   ]
  },
  {
   "cell_type": "markdown",
   "metadata": {},
   "source": [
    "### Проверка на однородность"
   ]
  },
  {
   "cell_type": "code",
   "execution_count": 12,
   "metadata": {},
   "outputs": [
    {
     "name": "stdout",
     "output_type": "stream",
     "text": [
      "Оценка мат.ожидания 0.585\n",
      "Оценка СКО 0.19371370627810516\n",
      "Коэффициент вариации 33.113454064633366 %\n",
      "Т.к. коэффициент вариации >= 33 %, совокупность нельзя считать однородной\n",
      "{4e-06: 0.7, 1.4e-05: 0.5, 1.2e-05: 0.7, 4.9999999999999996e-06: 0.8, 3.2999999999999997e-06: 0.7, 6e-06: 0.5, 2.85e-06: 0.85, 6.799999999999999e-06: 0.2, 1.6e-05: 0.3, 7e-06: 0.2, 8.18e-05: 0.3}\n"
     ]
    }
   ],
   "source": [
    "import statistics\n",
    "import numpy as np\n",
    "from math import log10\n",
    "from matplotlib import pyplot as plt\n",
    "\n",
    "x = np.array([0.7, 0.5, 0.7, 0.7, 0.7,\n",
    "              0.75, 0.7, 0.5, 0.5, 0.85,\n",
    "              0.2, 0.3, 0.2, 0.3, 0.7,\n",
    "              0.5, 0.7, 0.7, 0.7, 0.8])\n",
    "y = np.array([4, 14, 4, 12, 5,\n",
    "              5, 3.30, 14, 6, 2.85,\n",
    "              6.8, 16, 7, 81.8, 4,\n",
    "              14, 4, 12, 5, 5])*(10**-6)\n",
    "data = {}\n",
    "for i in range(len(x)):\n",
    "    data[y[i]] = x[i]\n",
    "    \n",
    "#Оценка мат. ожидания\n",
    "mo = statistics.mean(x)\n",
    "print('Оценка мат.ожидания', mo)\n",
    "\n",
    "#Оценка СКО\n",
    "sigma = np.std(x)\n",
    "print('Оценка СКО', sigma) \n",
    "\n",
    "#Коэффициент вариации\n",
    "V = sigma/mo*100\n",
    "print('Коэффициент вариации',  V, '%')\n",
    "if V < 33:\n",
    "    print('Т.к. коэффициент вариации < 33 %, совокупность можно считать однородной')\n",
    "else:\n",
    "    print ('Т.к. коэффициент вариации >= 33 %, совокупность нельзя считать однородной')\n",
    "        \n",
    "print(data)"
   ]
  },
  {
   "cell_type": "markdown",
   "metadata": {},
   "source": [
    "### Проверка на промахи методом трех сигмм"
   ]
  },
  {
   "cell_type": "code",
   "execution_count": 13,
   "metadata": {},
   "outputs": [
    {
     "name": "stdout",
     "output_type": "stream",
     "text": [
      "В 1 - сигмовый интервал входит 70.0 % элементов выборки\n",
      "В 2 - сигмовый интервал входит 100.0 % элементов выборки\n",
      "В 3 - сигмовый интервал входит 100.0 % элементов выборки\n",
      "{'0.3913-0.7787': 14, '0.1976-0.9724': 20, '0.0039-1.1661': 20}\n"
     ]
    }
   ],
   "source": [
    "my_dict = {}\n",
    "cnt = 0\n",
    "n = 1\n",
    "while n <= 3:\n",
    "    for el in x:\n",
    "        if (el <= (mo + n*sigma)) & (el >= (mo - n*sigma)):\n",
    "            cnt += 1\n",
    "    print ('В', n, '- сигмовый интервал входит', cnt/len(x)*100, '% элементов выборки')        \n",
    "    my_dict[f'{(mo - n*sigma):.4f}-{(mo + n*sigma):.4f}'] = cnt \n",
    "    cnt = 0\n",
    "    n += 1\n",
    "print(my_dict)    "
   ]
  },
  {
   "cell_type": "code",
   "execution_count": 14,
   "metadata": {},
   "outputs": [
    {
     "name": "stdout",
     "output_type": "stream",
     "text": [
      "Номер ТС значения которого похожи на промах: 14\n",
      "Среднеквадратичное отклонение величины результурующего признака: 1.672e-05\n",
      "Среднее значение результирующего признака 1.129e-05\n",
      "Значение 14 ТС является промахом\n"
     ]
    }
   ],
   "source": [
    "def check_miss(y: np.array, y_miss_idx) -> bool:\n",
    "    sigma_y = np.std(y)\n",
    "    print(f'Среднеквадратичное отклонение величины результурующего признака: {sigma_y:.3e}')\n",
    "    y_mean = np.mean(y)\n",
    "    print(f'Среднее значение результирующего признака {y_mean:.3e}')\n",
    "    # Проверка значения по критерию 3-х сигм\n",
    "    is_miss = abs(y_mean - y[y_miss_idx]) > 3*sigma_y\n",
    "    return is_miss\n",
    "    \n",
    "    \n",
    "y_miss_idx = np.argmax(y)\n",
    "print(f'Номер ТС значения которого похожи на промах: {y_miss_idx + 1}')\n",
    "if check_miss(y, y_miss_idx):\n",
    "    print(f'Значение {y_miss_idx + 1} ТС является промахом')\n",
    "else:\n",
    "    print(f'Значение {y_miss_idx + 1} ТС не является промахом')"
   ]
  },
  {
   "cell_type": "code",
   "execution_count": 15,
   "metadata": {},
   "outputs": [],
   "source": [
    "# Удаление из выборки промаха\n",
    "x = np.delete(x, y_miss_idx)\n",
    "y = np.delete(y, y_miss_idx)"
   ]
  },
  {
   "cell_type": "markdown",
   "metadata": {},
   "source": [
    "### Коэффициент корреляции"
   ]
  },
  {
   "cell_type": "code",
   "execution_count": 16,
   "metadata": {},
   "outputs": [],
   "source": [
    "def get_rxy(x,y,n):\n",
    "    x = np.array(x)\n",
    "    y = np.array(y)\n",
    "    Rxy = (sum(x*y) - sum(x)*sum(y)/n)/np.sqrt((sum(x*x) - (sum(x)**2)/n)*(sum(y*y) - (sum(y)**2)/n))\n",
    "    print(f'Эмпирический коэффициент корреляции равен: {Rxy:.3f}')\n",
    "    return Rxy"
   ]
  },
  {
   "cell_type": "code",
   "execution_count": 17,
   "metadata": {},
   "outputs": [
    {
     "name": "stdout",
     "output_type": "stream",
     "text": [
      "Эмпирический коэффициент корреляции равен: -0.476\n",
      "t = 2.2345024013845913\n"
     ]
    }
   ],
   "source": [
    "n = len(x)\n",
    "rxy = get_rxy(x,y,n)\n",
    "S_r = np.sqrt(1 - rxy**2)/np.sqrt(n - 2)\n",
    "t = abs(rxy)/S_r\n",
    "print('t =', t)"
   ]
  },
  {
   "cell_type": "markdown",
   "metadata": {},
   "source": [
    "### Определение связи между x и y"
   ]
  },
  {
   "cell_type": "code",
   "execution_count": 18,
   "metadata": {},
   "outputs": [
    {
     "name": "stdout",
     "output_type": "stream",
     "text": [
      "m = 5\n",
      "i = 0.12999999999999998\n"
     ]
    },
    {
     "name": "stderr",
     "output_type": "stream",
     "text": [
      "/Users/annalapsina/opt/anaconda3/lib/python3.9/site-packages/numpy/core/fromnumeric.py:3440: RuntimeWarning: Mean of empty slice.\n",
      "  return _methods._mean(a, axis=axis, dtype=dtype,\n",
      "/Users/annalapsina/opt/anaconda3/lib/python3.9/site-packages/numpy/core/_methods.py:189: RuntimeWarning: invalid value encountered in double_scalars\n",
      "  ret = ret.dtype.type(ret / rcount)\n"
     ]
    },
    {
     "data": {
      "text/html": [
       "<div>\n",
       "<style scoped>\n",
       "    .dataframe tbody tr th:only-of-type {\n",
       "        vertical-align: middle;\n",
       "    }\n",
       "\n",
       "    .dataframe tbody tr th {\n",
       "        vertical-align: top;\n",
       "    }\n",
       "\n",
       "    .dataframe thead th {\n",
       "        text-align: right;\n",
       "    }\n",
       "</style>\n",
       "<table border=\"1\" class=\"dataframe\">\n",
       "  <thead>\n",
       "    <tr style=\"text-align: right;\">\n",
       "      <th></th>\n",
       "      <th>Интервал</th>\n",
       "      <th>Кол-во элементов</th>\n",
       "      <th>Cередина интервала</th>\n",
       "      <th>у в интервале</th>\n",
       "      <th>Cумма у в интервале</th>\n",
       "      <th>Cреднее у в интервале</th>\n",
       "    </tr>\n",
       "  </thead>\n",
       "  <tbody>\n",
       "    <tr>\n",
       "      <th>0</th>\n",
       "      <td>0.2000-0.3300</td>\n",
       "      <td>3</td>\n",
       "      <td>0.265</td>\n",
       "      <td>[6.799999999999999e-06, 1.6e-05, 7e-06]</td>\n",
       "      <td>0.000030</td>\n",
       "      <td>0.000010</td>\n",
       "    </tr>\n",
       "    <tr>\n",
       "      <th>1</th>\n",
       "      <td>0.3300-0.4600</td>\n",
       "      <td>0</td>\n",
       "      <td>0.395</td>\n",
       "      <td>[]</td>\n",
       "      <td>0.000000</td>\n",
       "      <td>NaN</td>\n",
       "    </tr>\n",
       "    <tr>\n",
       "      <th>2</th>\n",
       "      <td>0.4600-0.5900</td>\n",
       "      <td>4</td>\n",
       "      <td>0.525</td>\n",
       "      <td>[1.4e-05, 1.4e-05, 6e-06, 1.4e-05]</td>\n",
       "      <td>0.000048</td>\n",
       "      <td>0.000012</td>\n",
       "    </tr>\n",
       "    <tr>\n",
       "      <th>3</th>\n",
       "      <td>0.5900-0.7200</td>\n",
       "      <td>9</td>\n",
       "      <td>0.655</td>\n",
       "      <td>[4e-06, 4e-06, 1.2e-05, 4.9999999999999996e-06...</td>\n",
       "      <td>0.000053</td>\n",
       "      <td>0.000006</td>\n",
       "    </tr>\n",
       "    <tr>\n",
       "      <th>4</th>\n",
       "      <td>0.7200-0.8500</td>\n",
       "      <td>2</td>\n",
       "      <td>0.785</td>\n",
       "      <td>[4.9999999999999996e-06, 4.9999999999999996e-06]</td>\n",
       "      <td>0.000010</td>\n",
       "      <td>0.000005</td>\n",
       "    </tr>\n",
       "  </tbody>\n",
       "</table>\n",
       "</div>"
      ],
      "text/plain": [
       "        Интервал  Кол-во элементов  Cередина интервала  \\\n",
       "0  0.2000-0.3300                 3               0.265   \n",
       "1  0.3300-0.4600                 0               0.395   \n",
       "2  0.4600-0.5900                 4               0.525   \n",
       "3  0.5900-0.7200                 9               0.655   \n",
       "4  0.7200-0.8500                 2               0.785   \n",
       "\n",
       "                                       у в интервале  Cумма у в интервале  \\\n",
       "0            [6.799999999999999e-06, 1.6e-05, 7e-06]             0.000030   \n",
       "1                                                 []             0.000000   \n",
       "2                 [1.4e-05, 1.4e-05, 6e-06, 1.4e-05]             0.000048   \n",
       "3  [4e-06, 4e-06, 1.2e-05, 4.9999999999999996e-06...             0.000053   \n",
       "4   [4.9999999999999996e-06, 4.9999999999999996e-06]             0.000010   \n",
       "\n",
       "   Cреднее у в интервале  \n",
       "0               0.000010  \n",
       "1                    NaN  \n",
       "2               0.000012  \n",
       "3               0.000006  \n",
       "4               0.000005  "
      ]
     },
     "execution_count": 18,
     "metadata": {},
     "output_type": "execute_result"
    }
   ],
   "source": [
    "#Число групп\n",
    "m = 1 + 3.32*log10(len(x))\n",
    "print('m =', int(m))\n",
    "#Величина интервала\n",
    "R = max(x) - min(x)\n",
    "i = R/int(m)\n",
    "print('i =', i)\n",
    "my_dict1 = {}\n",
    "x0 = min(x)\n",
    "#Количество элементов в интервалах\n",
    "cnt = 0\n",
    "y_in_intervals = list()\n",
    "interval_center = list()\n",
    "y_average = list()\n",
    "y_interval_sum = list()\n",
    "for j in range(int(m)):\n",
    "    x1 = x0 + i\n",
    "    y_in_interval = list()\n",
    "    for k in range(len(x)):\n",
    "        if (x0 <= x[k]) & (x[k] < x1):\n",
    "            cnt += 1\n",
    "            y_in_interval.append(y[k])\n",
    "    y_average.append(np.mean(y_in_interval))\n",
    "    interval_center.append((x0+x1)/2)\n",
    "    y_in_intervals.append(y_in_interval) \n",
    "    y_interval_sum.append(sum(y_in_interval))\n",
    "    my_dict1[f'{x0:.4f}-{x1:.4f}'] = cnt\n",
    "     \n",
    "    cnt = 0\n",
    "    x0 = x1\n",
    " \n",
    "d1 = list()\n",
    "d2 = list()\n",
    "d3 = list()\n",
    "d4 = list()\n",
    "d5 = list()\n",
    "d6 = list()\n",
    "i = 0\n",
    "for interval, count in my_dict1.items():\n",
    "    d1.append(interval)\n",
    "    d2.append(count)\n",
    "    d3.append(interval_center[i])\n",
    "    d4.append(y_in_intervals[i])\n",
    "    d5.append(y_interval_sum[i])\n",
    "    d6.append(y_average[i])\n",
    "    i += 1\n",
    "\n",
    "    # print(f'Интервал {interval}: {count} элемент(-ов, -a) входит, середина интервала {interval_center[i]},\\n у в интервале {y_in_intervals[i]}, сумма у в интервале {y_interval_sum[i]},  среднее у в интервале {y_average[i]}')\n",
    "d = {'Интервал' : d1, \n",
    "    'Кол-во элементов' : d2,\n",
    "    'Cередина интервала' : d3, \n",
    "    'у в интервале' : d4, \n",
    "    'Cумма у в интервале' : d5, \n",
    "    'Cреднее у в интервале' : d6}\n",
    "df = pd.DataFrame(data=d)\n",
    "df\n",
    "    "
   ]
  },
  {
   "cell_type": "code",
   "execution_count": 19,
   "metadata": {},
   "outputs": [
    {
     "name": "stdout",
     "output_type": "stream",
     "text": [
      "[3, 0, 4, 9, 2]\n",
      "Межгрупповая дисперсия: 7.38008660784515e-12\n",
      "Дисперсия по результурующему признаку: 1.872e-11\n",
      "Эта равна: 0.628\n",
      "0.1672508786776744 > 0.1 => нельзя применить линейную функцию\n"
     ]
    }
   ],
   "source": [
    "y_intervals_freq = [v for k,v in my_dict1.items()]\n",
    "print(y_intervals_freq)\n",
    "inter_disp = 0\n",
    "y_mean = np.mean(y)\n",
    "for i, average in enumerate(y_average):\n",
    "    if i == 1:\n",
    "        continue\n",
    "    else:\n",
    "        inter_disp += y_intervals_freq[i]*((average - y_mean)**2)\n",
    "inter_disp /= sum(y_intervals_freq)\n",
    "print('Межгрупповая дисперсия:', inter_disp)\n",
    "Sy = np.var(y)\n",
    "print(f'Дисперсия по результурующему признаку: {Sy:.3e}')\n",
    "\n",
    "eta = np.sqrt(inter_disp/Sy)\n",
    "print(f'Эта равна: {eta:.3f}')\n",
    "print(abs(eta**2-rxy**2), '>', 0.1, '=> нельзя применить линейную функцию')"
   ]
  },
  {
   "cell_type": "markdown",
   "metadata": {},
   "source": [
    "### Метод МНК"
   ]
  },
  {
   "cell_type": "code",
   "execution_count": 20,
   "metadata": {},
   "outputs": [],
   "source": [
    "A = np.ones((len(x),3))\n",
    "A[:,1] = x\n",
    "A[:,2] = x**2\n",
    "T = np.dot(np.dot(np.linalg.inv(np.dot((A.T),A)),A.T),y)"
   ]
  },
  {
   "cell_type": "code",
   "execution_count": 21,
   "metadata": {},
   "outputs": [
    {
     "name": "stdout",
     "output_type": "stream",
     "text": [
      "Полученное уравнение имеет вид: y = -6.033e-05*x^2 + 5.021e-05*x + 1.276e-06\n"
     ]
    },
    {
     "data": {
      "text/plain": [
       "[<matplotlib.lines.Line2D at 0x7fb129f626a0>]"
      ]
     },
     "execution_count": 21,
     "metadata": {},
     "output_type": "execute_result"
    },
    {
     "data": {
      "image/png": "[encoded data removed]",
      "text/plain": [
       "<Figure size 1000x700 with 1 Axes>"
      ]
     },
     "metadata": {},
     "output_type": "display_data"
    }
   ],
   "source": [
    "a2 = T[2]\n",
    "a1 = T[1]\n",
    "a0 = T[0]\n",
    "\n",
    "print(f'Полученное уравнение имеет вид: y = {a2:.3e}*x^2 + {a1:.3e}*x + {a0:.3e}')\n",
    "\n",
    "fig = plt.figure(figsize=(10,7))\n",
    "ax = fig.add_subplot(111)\n",
    "ax.grid(color='grey', linestyle='-', linewidth=1)\n",
    "ax.plot(x,y, 'ro', ms=10)\n",
    "ax.plot(sorted(x),[a2*xi*xi + a1*xi + a0 for xi in sorted(x)])"
   ]
  },
  {
   "cell_type": "code",
   "execution_count": 22,
   "metadata": {},
   "outputs": [
    {
     "name": "stdout",
     "output_type": "stream",
     "text": [
      "Среднеквадратическая ошибка уравнения 3.430e-06\n",
      "Mera = 45.27%\n"
     ]
    }
   ],
   "source": [
    "# Среднеквадратическая ошибка уравнения\n",
    "Se = np.sqrt(sum((y-np.array([a2*xi*xi + a1*xi + a0 for xi in x]))**2)/(len(x)-2))\n",
    "print(f'Среднеквадратическая ошибка уравнения {Se:.3e}')\n",
    "Mera = Se/y_mean*100\n",
    "print(f'Mera = {Mera:.2f}%')"
   ]
  },
  {
   "cell_type": "markdown",
   "metadata": {},
   "source": [
    "### Метод градиентного спуска"
   ]
  },
  {
   "cell_type": "code",
   "execution_count": 23,
   "metadata": {},
   "outputs": [],
   "source": [
    "def gradient_2(x, y, learning_rate):   \n",
    "    # Нормировка данных\n",
    "    range_x = max(x)-min(x)\n",
    "    range_y = max(y)-min(y)\n",
    "    \n",
    "    x_norm = (x-min(x))/range_x\n",
    "    y_norm = (y-min(y))/range_y\n",
    "    \n",
    "    T = np.array([1,1,1])\n",
    "    X = np.ones((len(x_norm),3))\n",
    "    X[:,1] = x_norm\n",
    "    X[:,2] = x_norm**2\n",
    "    \n",
    "    y_new = np.dot(X,T.T)\n",
    "    dT = learning_rate*np.sum((y_norm-y_new)*X.T,axis=1)\n",
    "    \n",
    "    while abs(sum(dT)) > 0.00001:\n",
    "        T = T + dT\n",
    "        y_new = np.dot(X,T.T)\n",
    "        dT = learning_rate*np.sum((y_norm-y_new)*X.T,axis=1)\n",
    "\n",
    "    # Денормировка\n",
    "    a2 = T[2]*range_y/(range_x**2)\n",
    "    a1 = (range_x*range_y*T[1] - 2*min(x)*range_y*T[2])/(range_x**2)\n",
    "    a0 = T[2]*range_y*(min(x)**2)/(range_x**2) - T[1]*range_y*min(x)/range_x + T[0]*range_y + min(y)\n",
    "\n",
    "    return a2, a1, a0"
   ]
  },
  {
   "cell_type": "code",
   "execution_count": 24,
   "metadata": {},
   "outputs": [
    {
     "name": "stdout",
     "output_type": "stream",
     "text": [
      "Полученное уравнение имеет вид: y = -5.950e-05*x^2 + 4.936e-05*x + 1.466e-06\n"
     ]
    },
    {
     "data": {
      "text/plain": [
       "[<matplotlib.lines.Line2D at 0x7fb12a385e50>]"
      ]
     },
     "execution_count": 24,
     "metadata": {},
     "output_type": "execute_result"
    },
    {
     "data": {
      "image/png": "[encoded data removed]",
      "text/plain": [
       "<Figure size 1000x700 with 1 Axes>"
      ]
     },
     "metadata": {},
     "output_type": "display_data"
    }
   ],
   "source": [
    "LR = 0.04\n",
    "a2, a1, a0 = gradient_2(x, y, LR)\n",
    "\n",
    "print(f'Полученное уравнение имеет вид: y = {a2:.3e}*x^2 + {a1:.3e}*x + {a0:.3e}')\n",
    "\n",
    "fig = plt.figure(figsize=(10,7))\n",
    "ax = fig.add_subplot(111)\n",
    "ax.grid(color='grey', linestyle='-', linewidth=1)\n",
    "ax.plot(x,y, 'ro', ms=10)\n",
    "ax.plot(sorted(x),[a2*xi*xi + a1*xi + a0 for xi in sorted(x)])"
   ]
  },
  {
   "cell_type": "code",
   "execution_count": 25,
   "metadata": {},
   "outputs": [
    {
     "name": "stdout",
     "output_type": "stream",
     "text": [
      "Среднеквадратическая ошибка уравнения 3.430e-06\n",
      "Mera = 45.27%\n"
     ]
    }
   ],
   "source": [
    "# Среднеквадратическая ошибка уравнения\n",
    "Se = np.sqrt(sum((y-np.array([a2*xi*xi + a1*xi + a0 for xi in x]))**2)/(len(x)-2))\n",
    "print(f'Среднеквадратическая ошибка уравнения {Se:.3e}')\n",
    "Mera = Se/y_mean*100\n",
    "print(f'Mera = {Mera:.2f}%')"
   ]
  },
  {
   "cell_type": "code",
   "execution_count": null,
   "metadata": {},
   "outputs": [],
   "source": []
  },
  {
   "cell_type": "code",
   "execution_count": null,
   "metadata": {},
   "outputs": [],
   "source": []
  },
  {
   "cell_type": "code",
   "execution_count": null,
   "metadata": {},
   "outputs": [],
   "source": []
  },
  {
   "cell_type": "code",
   "execution_count": null,
   "metadata": {},
   "outputs": [],
   "source": []
  },
  {
   "cell_type": "code",
   "execution_count": null,
   "metadata": {},
   "outputs": [],
   "source": []
  }
 ],
 "metadata": {
  "kernelspec": {
   "display_name": "Python 3 (ipykernel)",
   "language": "python",
   "name": "python3"
  },
  "language_info": {
   "codemirror_mode": {
    "name": "ipython",
    "version": 3
   },
   "file_extension": ".py",
   "mimetype": "text/x-python",
   "name": "python",
   "nbconvert_exporter": "python",
   "pygments_lexer": "ipython3",
   "version": "3.11.1"
  },
  "vscode": {
   "interpreter": {
    "hash": "aee8b7b246df8f9039afb4144a1f6fd8d2ca17a180786b69acc140d282b71a49"
   }
  }
 },
 "nbformat": 4,
 "nbformat_minor": 4
}
